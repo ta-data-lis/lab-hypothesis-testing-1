{
 "cells": [
  {
   "cell_type": "markdown",
   "metadata": {},
   "source": [
    "# Before your start:\n",
    "- Read the README.md file\n",
    "- Comment as much as you can and use the resources (README.md file)\n",
    "- Happy learning!"
   ]
  },
  {
   "cell_type": "code",
   "execution_count": 12,
   "metadata": {},
   "outputs": [],
   "source": [
    "# import numpy and pandas\n",
    "import numpy as np\n",
    "import pandas as pd"
   ]
  },
  {
   "cell_type": "markdown",
   "metadata": {},
   "source": [
    "# Challenge 1 - Exploring the Data\n",
    "\n",
    "In this challenge, we will examine all salaries of employees of the City of Chicago. We will start by loading the dataset and examining its contents."
   ]
  },
  {
   "cell_type": "code",
   "execution_count": 13,
   "metadata": {},
   "outputs": [],
   "source": [
    "# Your code here:\n",
    "data=pd.read_csv(\"Current_Employee_Names__Salaries__and_Position_Titles.csv\")"
   ]
  },
  {
   "cell_type": "markdown",
   "metadata": {},
   "source": [
    "Examine the `salaries` dataset using the `head` function below."
   ]
  },
  {
   "cell_type": "code",
   "execution_count": 14,
   "metadata": {},
   "outputs": [
    {
     "data": {
      "text/html": [
       "<div>\n",
       "<style scoped>\n",
       "    .dataframe tbody tr th:only-of-type {\n",
       "        vertical-align: middle;\n",
       "    }\n",
       "\n",
       "    .dataframe tbody tr th {\n",
       "        vertical-align: top;\n",
       "    }\n",
       "\n",
       "    .dataframe thead th {\n",
       "        text-align: right;\n",
       "    }\n",
       "</style>\n",
       "<table border=\"1\" class=\"dataframe\">\n",
       "  <thead>\n",
       "    <tr style=\"text-align: right;\">\n",
       "      <th></th>\n",
       "      <th>Name</th>\n",
       "      <th>Job Titles</th>\n",
       "      <th>Department</th>\n",
       "      <th>Full or Part-Time</th>\n",
       "      <th>Salary or Hourly</th>\n",
       "      <th>Typical Hours</th>\n",
       "      <th>Annual Salary</th>\n",
       "      <th>Hourly Rate</th>\n",
       "    </tr>\n",
       "  </thead>\n",
       "  <tbody>\n",
       "    <tr>\n",
       "      <th>0</th>\n",
       "      <td>AARON,  JEFFERY M</td>\n",
       "      <td>SERGEANT</td>\n",
       "      <td>POLICE</td>\n",
       "      <td>F</td>\n",
       "      <td>Salary</td>\n",
       "      <td>NaN</td>\n",
       "      <td>101442.0</td>\n",
       "      <td>NaN</td>\n",
       "    </tr>\n",
       "    <tr>\n",
       "      <th>1</th>\n",
       "      <td>AARON,  KARINA</td>\n",
       "      <td>POLICE OFFICER (ASSIGNED AS DETECTIVE)</td>\n",
       "      <td>POLICE</td>\n",
       "      <td>F</td>\n",
       "      <td>Salary</td>\n",
       "      <td>NaN</td>\n",
       "      <td>94122.0</td>\n",
       "      <td>NaN</td>\n",
       "    </tr>\n",
       "    <tr>\n",
       "      <th>2</th>\n",
       "      <td>AARON,  KIMBERLEI R</td>\n",
       "      <td>CHIEF CONTRACT EXPEDITER</td>\n",
       "      <td>GENERAL SERVICES</td>\n",
       "      <td>F</td>\n",
       "      <td>Salary</td>\n",
       "      <td>NaN</td>\n",
       "      <td>101592.0</td>\n",
       "      <td>NaN</td>\n",
       "    </tr>\n",
       "  </tbody>\n",
       "</table>\n",
       "</div>"
      ],
      "text/plain": [
       "                  Name                              Job Titles  \\\n",
       "0    AARON,  JEFFERY M                                SERGEANT   \n",
       "1      AARON,  KARINA   POLICE OFFICER (ASSIGNED AS DETECTIVE)   \n",
       "2  AARON,  KIMBERLEI R                CHIEF CONTRACT EXPEDITER   \n",
       "\n",
       "         Department Full or Part-Time Salary or Hourly  Typical Hours  \\\n",
       "0            POLICE                 F           Salary            NaN   \n",
       "1            POLICE                 F           Salary            NaN   \n",
       "2  GENERAL SERVICES                 F           Salary            NaN   \n",
       "\n",
       "   Annual Salary  Hourly Rate  \n",
       "0       101442.0          NaN  \n",
       "1        94122.0          NaN  \n",
       "2       101592.0          NaN  "
      ]
     },
     "execution_count": 14,
     "metadata": {},
     "output_type": "execute_result"
    }
   ],
   "source": [
    "# Your code here:\n",
    "data.head(3)"
   ]
  },
  {
   "cell_type": "markdown",
   "metadata": {},
   "source": [
    "We see from looking at the `head` function that there is quite a bit of missing data. Let's examine how much missing data is in each column. Produce this output in the cell below"
   ]
  },
  {
   "cell_type": "code",
   "execution_count": 15,
   "metadata": {},
   "outputs": [
    {
     "data": {
      "text/plain": [
       "Name                     0\n",
       "Job Titles               0\n",
       "Department               0\n",
       "Full or Part-Time        0\n",
       "Salary or Hourly         0\n",
       "Typical Hours        25161\n",
       "Annual Salary         8022\n",
       "Hourly Rate          25161\n",
       "dtype: int64"
      ]
     },
     "execution_count": 15,
     "metadata": {},
     "output_type": "execute_result"
    }
   ],
   "source": [
    "# Your code here:\n",
    "nulls=data.isnull().sum()\n",
    "nulls"
   ]
  },
  {
   "cell_type": "markdown",
   "metadata": {},
   "source": [
    "Let's also look at the count of hourly vs. salaried employees. Write the code in the cell below"
   ]
  },
  {
   "cell_type": "code",
   "execution_count": 16,
   "metadata": {},
   "outputs": [
    {
     "data": {
      "text/html": [
       "<div>\n",
       "<style scoped>\n",
       "    .dataframe tbody tr th:only-of-type {\n",
       "        vertical-align: middle;\n",
       "    }\n",
       "\n",
       "    .dataframe tbody tr th {\n",
       "        vertical-align: top;\n",
       "    }\n",
       "\n",
       "    .dataframe thead th {\n",
       "        text-align: right;\n",
       "    }\n",
       "</style>\n",
       "<table border=\"1\" class=\"dataframe\">\n",
       "  <thead>\n",
       "    <tr style=\"text-align: right;\">\n",
       "      <th></th>\n",
       "      <th>Salary or Hourly</th>\n",
       "    </tr>\n",
       "    <tr>\n",
       "      <th>Salary or Hourly</th>\n",
       "      <th></th>\n",
       "    </tr>\n",
       "  </thead>\n",
       "  <tbody>\n",
       "    <tr>\n",
       "      <th>Hourly</th>\n",
       "      <td>8022</td>\n",
       "    </tr>\n",
       "    <tr>\n",
       "      <th>Salary</th>\n",
       "      <td>25161</td>\n",
       "    </tr>\n",
       "  </tbody>\n",
       "</table>\n",
       "</div>"
      ],
      "text/plain": [
       "                  Salary or Hourly\n",
       "Salary or Hourly                  \n",
       "Hourly                        8022\n",
       "Salary                       25161"
      ]
     },
     "execution_count": 16,
     "metadata": {},
     "output_type": "execute_result"
    }
   ],
   "source": [
    "# Your code here:\n",
    "data.groupby(\"Salary or Hourly\").agg({\"Salary or Hourly\":\"count\"})"
   ]
  },
  {
   "cell_type": "markdown",
   "metadata": {},
   "source": [
    "What this information indicates is that the table contains information about two types of employees - salaried and hourly. Some columns apply only to one type of employee while other columns only apply to another kind. This is why there are so many missing values. Therefore, we will not do anything to handle the missing values."
   ]
  },
  {
   "cell_type": "markdown",
   "metadata": {},
   "source": [
    "There are different departments in the city. List all departments and the count of employees in each department."
   ]
  },
  {
   "cell_type": "code",
   "execution_count": 17,
   "metadata": {},
   "outputs": [
    {
     "data": {
      "text/plain": [
       "POLICE                   13414\n",
       "FIRE                      4641\n",
       "STREETS & SAN             2198\n",
       "OEMC                      2102\n",
       "WATER MGMNT               1879\n",
       "AVIATION                  1629\n",
       "TRANSPORTN                1140\n",
       "PUBLIC LIBRARY            1015\n",
       "GENERAL SERVICES           980\n",
       "FAMILY & SUPPORT           615\n",
       "FINANCE                    560\n",
       "HEALTH                     488\n",
       "CITY COUNCIL               411\n",
       "LAW                        407\n",
       "BUILDINGS                  269\n",
       "COMMUNITY DEVELOPMENT      207\n",
       "BUSINESS AFFAIRS           171\n",
       "COPA                       116\n",
       "BOARD OF ELECTION          107\n",
       "DoIT                        99\n",
       "PROCUREMENT                 92\n",
       "INSPECTOR GEN               87\n",
       "MAYOR'S OFFICE              85\n",
       "CITY CLERK                  84\n",
       "ANIMAL CONTRL               81\n",
       "HUMAN RESOURCES             79\n",
       "CULTURAL AFFAIRS            65\n",
       "BUDGET & MGMT               46\n",
       "ADMIN HEARNG                39\n",
       "DISABILITIES                28\n",
       "TREASURER                   22\n",
       "HUMAN RELATIONS             16\n",
       "BOARD OF ETHICS              8\n",
       "POLICE BOARD                 2\n",
       "LICENSE APPL COMM            1\n",
       "Name: Department, dtype: int64"
      ]
     },
     "execution_count": 17,
     "metadata": {},
     "output_type": "execute_result"
    }
   ],
   "source": [
    "# Your code here:\n",
    "data[\"Department\"].value_counts()"
   ]
  },
  {
   "cell_type": "markdown",
   "metadata": {},
   "source": [
    "# Challenge 2 - Hypothesis Tests\n",
    "\n",
    "In this section of the lab, we will test whether the hourly wage of all hourly workers is significantly different from $30/hr. Import the correct one sample test function from scipy and perform the hypothesis test for a 95% two sided confidence interval."
   ]
  },
  {
   "cell_type": "code",
   "execution_count": 24,
   "metadata": {},
   "outputs": [
    {
     "data": {
      "text/html": [
       "<div>\n",
       "<style scoped>\n",
       "    .dataframe tbody tr th:only-of-type {\n",
       "        vertical-align: middle;\n",
       "    }\n",
       "\n",
       "    .dataframe tbody tr th {\n",
       "        vertical-align: top;\n",
       "    }\n",
       "\n",
       "    .dataframe thead th {\n",
       "        text-align: right;\n",
       "    }\n",
       "</style>\n",
       "<table border=\"1\" class=\"dataframe\">\n",
       "  <thead>\n",
       "    <tr style=\"text-align: right;\">\n",
       "      <th></th>\n",
       "      <th>Name</th>\n",
       "      <th>Job Titles</th>\n",
       "      <th>Department</th>\n",
       "      <th>Full or Part-Time</th>\n",
       "      <th>Salary or Hourly</th>\n",
       "      <th>Typical Hours</th>\n",
       "      <th>Annual Salary</th>\n",
       "      <th>Hourly Rate</th>\n",
       "    </tr>\n",
       "  </thead>\n",
       "  <tbody>\n",
       "    <tr>\n",
       "      <th>19365</th>\n",
       "      <td>MENDEZ,  JAVIER O</td>\n",
       "      <td>POOL MOTOR TRUCK DRIVER</td>\n",
       "      <td>TRANSPORTN</td>\n",
       "      <td>F</td>\n",
       "      <td>Hourly</td>\n",
       "      <td>40.0</td>\n",
       "      <td>NaN</td>\n",
       "      <td>35.60</td>\n",
       "    </tr>\n",
       "    <tr>\n",
       "      <th>23081</th>\n",
       "      <td>PETERSON,  WILLIAM T</td>\n",
       "      <td>OPERATING ENGINEER-GROUP C</td>\n",
       "      <td>WATER MGMNT</td>\n",
       "      <td>F</td>\n",
       "      <td>Hourly</td>\n",
       "      <td>40.0</td>\n",
       "      <td>NaN</td>\n",
       "      <td>45.07</td>\n",
       "    </tr>\n",
       "    <tr>\n",
       "      <th>5963</th>\n",
       "      <td>CRAWFORD,  ALISHA J</td>\n",
       "      <td>POOL MOTOR TRUCK DRIVER</td>\n",
       "      <td>AVIATION</td>\n",
       "      <td>F</td>\n",
       "      <td>Hourly</td>\n",
       "      <td>40.0</td>\n",
       "      <td>NaN</td>\n",
       "      <td>32.04</td>\n",
       "    </tr>\n",
       "    <tr>\n",
       "      <th>8924</th>\n",
       "      <td>FITCH,  JORDAN M</td>\n",
       "      <td>LAW CLERK</td>\n",
       "      <td>LAW</td>\n",
       "      <td>F</td>\n",
       "      <td>Hourly</td>\n",
       "      <td>35.0</td>\n",
       "      <td>NaN</td>\n",
       "      <td>14.51</td>\n",
       "    </tr>\n",
       "    <tr>\n",
       "      <th>12278</th>\n",
       "      <td>HEERY,  THOMAS R</td>\n",
       "      <td>WATCHMAN</td>\n",
       "      <td>WATER MGMNT</td>\n",
       "      <td>F</td>\n",
       "      <td>Hourly</td>\n",
       "      <td>40.0</td>\n",
       "      <td>NaN</td>\n",
       "      <td>21.98</td>\n",
       "    </tr>\n",
       "  </tbody>\n",
       "</table>\n",
       "</div>"
      ],
      "text/plain": [
       "                       Name                  Job Titles   Department  \\\n",
       "19365     MENDEZ,  JAVIER O     POOL MOTOR TRUCK DRIVER   TRANSPORTN   \n",
       "23081  PETERSON,  WILLIAM T  OPERATING ENGINEER-GROUP C  WATER MGMNT   \n",
       "5963    CRAWFORD,  ALISHA J     POOL MOTOR TRUCK DRIVER     AVIATION   \n",
       "8924       FITCH,  JORDAN M                   LAW CLERK          LAW   \n",
       "12278      HEERY,  THOMAS R                    WATCHMAN  WATER MGMNT   \n",
       "\n",
       "      Full or Part-Time Salary or Hourly  Typical Hours  Annual Salary  \\\n",
       "19365                 F           Hourly           40.0            NaN   \n",
       "23081                 F           Hourly           40.0            NaN   \n",
       "5963                  F           Hourly           40.0            NaN   \n",
       "8924                  F           Hourly           35.0            NaN   \n",
       "12278                 F           Hourly           40.0            NaN   \n",
       "\n",
       "       Hourly Rate  \n",
       "19365        35.60  \n",
       "23081        45.07  \n",
       "5963         32.04  \n",
       "8924         14.51  \n",
       "12278        21.98  "
      ]
     },
     "execution_count": 24,
     "metadata": {},
     "output_type": "execute_result"
    }
   ],
   "source": []
  },
  {
   "cell_type": "code",
   "execution_count": 30,
   "metadata": {},
   "outputs": [
    {
     "name": "stdout",
     "output_type": "stream",
     "text": [
      "Can't reject the null: we don't have enough evidence to conclude that the  hourly wage of hourly workers different than 30/hr with a  0.95 level of confidence\n"
     ]
    }
   ],
   "source": [
    "# Your code here:\n",
    "import scipy.stats as st\n",
    "\n",
    "#1. Hypothesis\n",
    "H0 = \"hourly wage of hourly workers equal to 30/hr\"\n",
    "H1 = \"hourly wage of hourly workers different than 30/hr\"\n",
    "\n",
    "test = 30\n",
    "\n",
    "#2. Significance level\n",
    "alpha = 0.05\n",
    "\n",
    "#3. Sample\n",
    "data_hourly=data[data[\"Salary or Hourly\"]==\"Hourly\"]\n",
    "data_hourly_sample=data_hourly.sample(30)\n",
    "\n",
    "#4. Compute Statistic\n",
    "mean=data_hourly_sample[\"Hourly Rate\"].mean()\n",
    "s=data_hourly_sample[\"Hourly Rate\"].std(ddof=1)\n",
    "n=len(data_hourly_sample[\"Hourly Rate\"])\n",
    "\n",
    "stat= (mean-test)/(s/np.sqrt(n))\n",
    "\n",
    "#5. P-value\n",
    "p_value = st.t.sf(abs(stat),n-1)*2\n",
    "\n",
    "#6. Decision\n",
    "\n",
    "if p_value < alpha:\n",
    "    print(\"Reject the null: we have enough evidence to conclude that the \",H1, \"with a \", 1-alpha, \"level of confidence\")\n",
    "else:\n",
    "    print(\"Can't reject the null: we don't have enough evidence to conclude that the \",H1, \"with a \", 1-alpha, \"level of confidence\")"
   ]
  },
  {
   "cell_type": "markdown",
   "metadata": {},
   "source": [
    "We are also curious about salaries in the police force. The chief of police in Chicago claimed in a press briefing that salaries this year are higher than last year's mean of $86000/year a year for all salaried employees. Test this one sided hypothesis using a 95% confidence interval.\n",
    "\n",
    "Hint: A one tailed test has a p-value that is half of the two tailed p-value. If our hypothesis is greater than, then to reject, the test statistic must also be positive."
   ]
  },
  {
   "cell_type": "code",
   "execution_count": 31,
   "metadata": {},
   "outputs": [
    {
     "name": "stdout",
     "output_type": "stream",
     "text": [
      "Reject the null: we have enough evidence to conclude that the  Salaries in the police force are higher than $86000/year with a  0.95 level of confidence\n"
     ]
    }
   ],
   "source": [
    "# Your code here:\n",
    "#1. Hypothesis\n",
    "H0 = \"Salaries in the police force are lower or equal to $86000/year\"\n",
    "H1 = \"Salaries in the police force are higher than $86000/year\"\n",
    "\n",
    "test = 30\n",
    "\n",
    "#2. Significance level\n",
    "alpha = 0.05\n",
    "\n",
    "#3. Sample\n",
    "data_police=data[data[\"Department\"]==\"POLICE\"]\n",
    "data_police_sample=data_police.sample(30)\n",
    "\n",
    "#4. Compute Statistic\n",
    "mean=data_police_sample[\"Annual Salary\"].mean()\n",
    "s=data_police_sample[\"Annual Salary\"].std(ddof=1)\n",
    "n=len(data_police_sample[\"Annual Salary\"])\n",
    "\n",
    "stat= (mean-test)/(s/np.sqrt(n))\n",
    "\n",
    "#5. P-value\n",
    "p_value = st.t.sf(abs(stat),n-1)\n",
    "\n",
    "#6. Decision\n",
    "\n",
    "if (p_value < alpha) and (p_value > 0):\n",
    "    print(\"Reject the null: we have enough evidence to conclude that the \",H1, \"with a \", 1-alpha, \"level of confidence\")\n",
    "else:\n",
    "    print(\"Can't reject the null: we don't have enough evidence to conclude that the \",H1, \"with a \", 1-alpha, \"level of confidence\")\n"
   ]
  },
  {
   "cell_type": "markdown",
   "metadata": {},
   "source": [
    "Using the `crosstab` function, find the department that has the most hourly workers. "
   ]
  },
  {
   "cell_type": "code",
   "execution_count": 72,
   "metadata": {},
   "outputs": [
    {
     "data": {
      "text/plain": [
       "Department\n",
       "STREETS & SAN            1862\n",
       "WATER MGMNT              1513\n",
       "OEMC                     1273\n",
       "AVIATION                 1082\n",
       "GENERAL SERVICES          765\n",
       "TRANSPORTN                725\n",
       "PUBLIC LIBRARY            299\n",
       "FAMILY & SUPPORT          287\n",
       "CITY COUNCIL               64\n",
       "FINANCE                    44\n",
       "LAW                        40\n",
       "ANIMAL CONTRL              19\n",
       "POLICE                     10\n",
       "MAYOR'S OFFICE              8\n",
       "BUSINESS AFFAIRS            7\n",
       "CULTURAL AFFAIRS            7\n",
       "COMMUNITY DEVELOPMENT       4\n",
       "HUMAN RESOURCES             4\n",
       "HEALTH                      3\n",
       "PROCUREMENT                 2\n",
       "FIRE                        2\n",
       "BUDGET & MGMT               2\n",
       "HUMAN RELATIONS             0\n",
       "INSPECTOR GEN               0\n",
       "DoIT                        0\n",
       "LICENSE APPL COMM           0\n",
       "DISABILITIES                0\n",
       "COPA                        0\n",
       "CITY CLERK                  0\n",
       "POLICE BOARD                0\n",
       "BUILDINGS                   0\n",
       "BOARD OF ETHICS             0\n",
       "BOARD OF ELECTION           0\n",
       "TREASURER                   0\n",
       "ADMIN HEARNG                0\n",
       "Name: Hourly, dtype: int64"
      ]
     },
     "execution_count": 72,
     "metadata": {},
     "output_type": "execute_result"
    }
   ],
   "source": [
    "dept_hourly = pd.crosstab(data['Department'], data['Salary or Hourly'])\n",
    "\n",
    "dept_hourly['Hourly'].sort_values(ascending=False)"
   ]
  },
  {
   "cell_type": "markdown",
   "metadata": {},
   "source": [
    "The workers from the department with the most hourly workers have complained that their hourly wage is less than $35/hour. Using a one sample t-test, test this one-sided hypothesis at the 95% confidence level."
   ]
  },
  {
   "cell_type": "code",
   "execution_count": 74,
   "metadata": {},
   "outputs": [
    {
     "name": "stdout",
     "output_type": "stream",
     "text": [
      "Can't reject the null: we don't have enough evidence to conclude that the  STREETS & SAN workers hourly wage is less than 35/h with a  0.95 level of confidence\n"
     ]
    }
   ],
   "source": [
    "# Your code here:\n",
    "\n",
    "#1. Hypothesis\n",
    "H0 = \"STREETS & SAN workers hourly wage is higher or equal to35/h \"\n",
    "H1 = \"STREETS & SAN workers hourly wage is less than 35/h\"\n",
    "\n",
    "test = 35\n",
    "\n",
    "#2. Significance level\n",
    "alpha = 0.05\n",
    "\n",
    "#3. Sample\n",
    "data_streets=data[(data[\"Department\"]==\"STREETS & SAN\") & (data[\"Salary or Hourly\"]==\"Hourly\")]\n",
    "data_streets_sample=data_streets.sample(30)\n",
    "\n",
    "#4. Compute Statistic\n",
    "mean=data_streets_sample[\"Hourly Rate\"].mean()\n",
    "s=data_streets_sample[\"Hourly Rate\"].std(ddof=1)\n",
    "n=len(data_streets_sample[\"Hourly Rate\"])\n",
    "\n",
    "stat= (mean-test)/(s/np.sqrt(n))\n",
    "\n",
    "#5. P-value\n",
    "p_value = st.t.sf(abs(stat),n-1)\n",
    "\n",
    "#6. Decision\n",
    "\n",
    "if (p_value < alpha) and (p_value < 0):\n",
    "    print(\"Reject the null: we have enough evidence to conclude that the \",H1, \"with a \", 1-alpha, \"level of confidence\")\n",
    "else:\n",
    "    print(\"Can't reject the null: we don't have enough evidence to conclude that the \",H1, \"with a \", 1-alpha, \"level of confidence\")\n"
   ]
  },
  {
   "cell_type": "markdown",
   "metadata": {},
   "source": [
    "# Challenge 3: To practice - Constructing Confidence Intervals\n",
    "\n",
    "While testing our hypothesis is a great way to gather empirical evidence for accepting or rejecting the hypothesis, another way to gather evidence is by creating a confidence interval. A confidence interval gives us information about the true mean of the population. So for a 95% confidence interval, we are 95% sure that the mean of the population is within the confidence interval. \n",
    ").\n",
    "\n",
    "To read more about confidence intervals, click [here](https://en.wikipedia.org/wiki/Confidence_interval).\n",
    "\n",
    "\n",
    "In the cell below, we will construct a 95% confidence interval for the mean hourly wage of all hourly workers. \n",
    "\n",
    "The confidence interval is computed in SciPy using the `t.interval` function. You can read more about this function [here](https://docs.scipy.org/doc/scipy-0.14.0/reference/generated/scipy.stats.t.html).\n",
    "\n",
    "To compute the confidence interval of the hourly wage, use the 0.95 for the confidence level, number of rows - 1 for degrees of freedom, the mean of the sample for the location parameter and the standard error for the scale. The standard error can be computed using [this](https://docs.scipy.org/doc/scipy/reference/generated/scipy.stats.sem.html) function in SciPy."
   ]
  },
  {
   "cell_type": "code",
   "execution_count": 80,
   "metadata": {},
   "outputs": [
    {
     "data": {
      "text/plain": [
       "(32.52345834488529, 33.05365708767727)"
      ]
     },
     "execution_count": 80,
     "metadata": {},
     "output_type": "execute_result"
    }
   ],
   "source": [
    "# Your code here:\n",
    "\n",
    "from scipy.stats import t\n",
    "from scipy import stats\n",
    "confidence=0.95\n",
    "n=len(data[data[\"Salary or Hourly\"]==\"Hourly\"][\"Hourly Rate\"])\n",
    "\n",
    "mean=data[data[\"Salary or Hourly\"]==\"Hourly\"][\"Hourly Rate\"].mean()\n",
    "standard_error= stats.sem(data[data[\"Salary or Hourly\"]==\"Hourly\"][\"Hourly Rate\"],axis=0,ddof=1)\n",
    "st.t.interval(confidence,n-1,loc=mean,scale=standard_error)"
   ]
  },
  {
   "cell_type": "markdown",
   "metadata": {},
   "source": [
    "Now construct the 95% confidence interval for all salaried employeed in the police in the cell below."
   ]
  },
  {
   "cell_type": "code",
   "execution_count": 84,
   "metadata": {},
   "outputs": [
    {
     "data": {
      "text/plain": [
       "(86177.05631531784, 86795.77269094894)"
      ]
     },
     "execution_count": 84,
     "metadata": {},
     "output_type": "execute_result"
    }
   ],
   "source": [
    "# Your code here:\n",
    "confidence=0.95\n",
    "\n",
    "n=len(data[(data[\"Salary or Hourly\"]==\"Salary\")&(data[\"Department\"]==\"POLICE\")][\"Annual Salary\"])\n",
    "\n",
    "mean=data[(data[\"Salary or Hourly\"]==\"Salary\")&(data[\"Department\"]==\"POLICE\")][\"Annual Salary\"].mean()\n",
    "standard_error= stats.sem(data[(data[\"Salary or Hourly\"]==\"Salary\")&(data[\"Department\"]==\"POLICE\")][\"Annual Salary\"],axis=0,ddof=1)\n",
    "st.t.interval(confidence,n-1,loc=mean,scale=standard_error)\n"
   ]
  },
  {
   "cell_type": "markdown",
   "metadata": {},
   "source": [
    "# Bonus Challenge - Hypothesis Tests of Proportions\n",
    "\n",
    "Another type of one sample test is a hypothesis test of proportions. In this test, we examine whether the proportion of a group in our sample is significantly different than a fraction. \n",
    "\n",
    "You can read more about one sample proportion tests [here](http://sphweb.bumc.bu.edu/otlt/MPH-Modules/BS/SAS/SAS6-CategoricalData/SAS6-CategoricalData2.html).\n",
    "\n",
    "In the cell below, use the `proportions_ztest` function from `statsmodels` to perform a hypothesis test that will determine whether the number of hourly workers in the City of Chicago is significantly different from 25% at the 95% confidence level."
   ]
  },
  {
   "cell_type": "code",
   "execution_count": null,
   "metadata": {},
   "outputs": [],
   "source": [
    "# Your code here:\n",
    "\n"
   ]
  }
 ],
 "metadata": {
  "kernelspec": {
   "display_name": "Python 3 (ipykernel)",
   "language": "python",
   "name": "python3"
  },
  "language_info": {
   "codemirror_mode": {
    "name": "ipython",
    "version": 3
   },
   "file_extension": ".py",
   "mimetype": "text/x-python",
   "name": "python",
   "nbconvert_exporter": "python",
   "pygments_lexer": "ipython3",
   "version": "3.9.13"
  }
 },
 "nbformat": 4,
 "nbformat_minor": 2
}
